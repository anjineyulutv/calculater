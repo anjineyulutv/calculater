{
 "cells": [
  {
   "cell_type": "code",
   "execution_count": 1,
   "metadata": {},
   "outputs": [
    {
     "name": "stdout",
     "output_type": "stream",
     "text": [
      "36+2-1*617/2\n"
     ]
    }
   ],
   "source": [
    "a=\"36+2-1*617/2\"\n",
    "print(a)"
   ]
  },
  {
   "cell_type": "code",
   "execution_count": 2,
   "metadata": {},
   "outputs": [
    {
     "data": {
      "text/plain": [
       "[36.0, 2.0, -1.0, 617.0, 2.0]"
      ]
     },
     "execution_count": 2,
     "metadata": {},
     "output_type": "execute_result"
    }
   ],
   "source": [
    "#Reference:https://www.tutorialspoint.com/How-to-extract-numbers-from-a-string-in-Python\n",
    "import re\n",
    "[float(s) for s in re.findall(r'-?\\d+\\.?\\d*',a)]"
   ]
  },
  {
   "cell_type": "code",
   "execution_count": 3,
   "metadata": {},
   "outputs": [
    {
     "data": {
      "text/plain": [
       "[36.0, 2.0, -1.0, 617.0, 2.0]"
      ]
     },
     "execution_count": 3,
     "metadata": {},
     "output_type": "execute_result"
    }
   ],
   "source": [
    "[float(s) for s in re.findall(r'-?\\d+\\.?\\d*',a)]"
   ]
  },
  {
   "cell_type": "code",
   "execution_count": 4,
   "metadata": {},
   "outputs": [
    {
     "data": {
      "text/plain": [
       "12"
      ]
     },
     "execution_count": 4,
     "metadata": {},
     "output_type": "execute_result"
    }
   ],
   "source": [
    "len(a)"
   ]
  },
  {
   "cell_type": "code",
   "execution_count": 5,
   "metadata": {},
   "outputs": [
    {
     "name": "stdout",
     "output_type": "stream",
     "text": [
      "<class 'str'>\n",
      "<class 'str'>\n",
      "<class 'str'>\n",
      "<class 'str'>\n",
      "<class 'str'>\n",
      "<class 'str'>\n",
      "<class 'str'>\n",
      "<class 'str'>\n",
      "<class 'str'>\n",
      "<class 'str'>\n",
      "<class 'str'>\n",
      "<class 'str'>\n"
     ]
    }
   ],
   "source": [
    "for i in range(0,len(a)):\n",
    "    print(type(a[i]))"
   ]
  },
  {
   "cell_type": "code",
   "execution_count": 6,
   "metadata": {},
   "outputs": [
    {
     "name": "stdout",
     "output_type": "stream",
     "text": [
      "8\n",
      "1\n",
      "6\n",
      "3.5\n"
     ]
    }
   ],
   "source": [
    "b=0\n",
    "c=0\n",
    "d=0\n",
    "e=0\n",
    "for i in range(0,len(a)):\n",
    "    if(a[i]=='/'):\n",
    "         b=int(a[i-1])/int(a[i+1])\n",
    "         print(b)\n",
    "    elif(a[i]=='*'):\n",
    "        c=int(a[i-1])*int(a[i+1])\n",
    "        print(c)\n",
    "    elif(a[i]=='+'):\n",
    "        d=int(a[i-1])+int(a[i+1])\n",
    "        print(d)\n",
    "    elif(a[i]=='-'):\n",
    "        e=int(a[i-1])-int(a[i+1])\n",
    "        print(e)"
   ]
  },
  {
   "cell_type": "code",
   "execution_count": null,
   "metadata": {},
   "outputs": [],
   "source": [
    "b=0\n",
    "c=0\n",
    "d=0\n",
    "e=0\n",
    "sum=0\n",
    "for i in range(0,len(a)):\n",
    "    if(a[i]=='/'):\n",
    "            b=int(a[i-1])/int(a[i+1])\n",
    "            a[i-1]=str(b)\n",
    "            a[i]=''\n",
    "            a[i+1]=''\n",
    "            sum=sum+(int(a[i-1])/int(a[i+1]))\n",
    "            \n",
    "for i in range(0,len(a)):\n",
    "    if(a[i]=='*'):\n",
    "        b=int(a[i-1])*int(a[i+1])\n",
    "        sum=sum+(int(a[i-1])/int(a[i+1]))\n",
    "        \n",
    "    elif(a[i]=='+'):\n",
    "        d=int(a[i-1])+int(a[i+1])\n",
    "        print(d)\n",
    "    elif(a[i]=='-'):\n",
    "        e=int(a[i-1])-int(a[i+1])\n",
    "        print(e)"
   ]
  },
  {
   "cell_type": "code",
   "execution_count": 54,
   "metadata": {},
   "outputs": [
    {
     "name": "stdout",
     "output_type": "stream",
     "text": [
      "['3', '+', '2', '-', '6', '/', '2']\n",
      "['3', '+', '2', '-', '3.0', '', '']\n",
      "3+2-3.0\n"
     ]
    }
   ],
   "source": [
    "sum=0\n",
    "for i in range(0,len(a)):\n",
    "    if(a[i]=='/'):\n",
    "            b=int(a[i-1])/int(a[i+1])\n",
    "            l=list(a)\n",
    "            print(l)\n",
    "            l[i-1]=str(b)\n",
    "            l[i]=''\n",
    "            l[i+1]=''\n",
    "            print(l)\n",
    "            p=\"\".join(l)\n",
    "            print(p)"
   ]
  },
  {
   "cell_type": "code",
   "execution_count": 55,
   "metadata": {},
   "outputs": [
    {
     "name": "stdout",
     "output_type": "stream",
     "text": [
      "3\n",
      "2\n",
      "['3', '+', '2', '-', '3', '.', '0']\n",
      "['5', '', '', '-', '3', '.', '0']\n",
      "5-3.0\n"
     ]
    }
   ],
   "source": [
    "sum=0\n",
    "for i in range(0,len(p)):\n",
    "    if(p[i]=='+'):\n",
    "            print(p[i-1])\n",
    "            print(p[i+1])\n",
    "            b=int(p[i-1])+int(p[i+1])\n",
    "            l=list(p)\n",
    "            print(l)\n",
    "            l[i-1]=str(b)\n",
    "            l[i]=''\n",
    "            l[i+1]=''\n",
    "            print(l)\n",
    "            q=\"\".join(l)\n",
    "            print(q)"
   ]
  },
  {
   "cell_type": "code",
   "execution_count": 56,
   "metadata": {},
   "outputs": [
    {
     "name": "stdout",
     "output_type": "stream",
     "text": [
      "5\n",
      "3\n",
      "['5', '-', '3', '.', '0']\n",
      "['2', '', '', '.', '0']\n",
      "2.0\n"
     ]
    },
    {
     "ename": "IndexError",
     "evalue": "string index out of range",
     "output_type": "error",
     "traceback": [
      "\u001b[1;31m---------------------------------------------------------------------------\u001b[0m",
      "\u001b[1;31mIndexError\u001b[0m                                Traceback (most recent call last)",
      "\u001b[1;32m<ipython-input-56-87bcf8462d70>\u001b[0m in \u001b[0;36m<module>\u001b[1;34m()\u001b[0m\n\u001b[0;32m      1\u001b[0m \u001b[0msum\u001b[0m\u001b[1;33m=\u001b[0m\u001b[1;36m0\u001b[0m\u001b[1;33m\u001b[0m\u001b[0m\n\u001b[0;32m      2\u001b[0m \u001b[1;32mfor\u001b[0m \u001b[0mi\u001b[0m \u001b[1;32min\u001b[0m \u001b[0mrange\u001b[0m\u001b[1;33m(\u001b[0m\u001b[1;36m0\u001b[0m\u001b[1;33m,\u001b[0m\u001b[0mlen\u001b[0m\u001b[1;33m(\u001b[0m\u001b[0mp\u001b[0m\u001b[1;33m)\u001b[0m\u001b[1;33m)\u001b[0m\u001b[1;33m:\u001b[0m\u001b[1;33m\u001b[0m\u001b[0m\n\u001b[1;32m----> 3\u001b[1;33m     \u001b[1;32mif\u001b[0m\u001b[1;33m(\u001b[0m\u001b[0mq\u001b[0m\u001b[1;33m[\u001b[0m\u001b[0mi\u001b[0m\u001b[1;33m]\u001b[0m\u001b[1;33m==\u001b[0m\u001b[1;34m'-'\u001b[0m\u001b[1;33m)\u001b[0m\u001b[1;33m:\u001b[0m\u001b[1;33m\u001b[0m\u001b[0m\n\u001b[0m\u001b[0;32m      4\u001b[0m             \u001b[0mprint\u001b[0m\u001b[1;33m(\u001b[0m\u001b[0mq\u001b[0m\u001b[1;33m[\u001b[0m\u001b[0mi\u001b[0m\u001b[1;33m-\u001b[0m\u001b[1;36m1\u001b[0m\u001b[1;33m]\u001b[0m\u001b[1;33m)\u001b[0m\u001b[1;33m\u001b[0m\u001b[0m\n\u001b[0;32m      5\u001b[0m             \u001b[0mprint\u001b[0m\u001b[1;33m(\u001b[0m\u001b[0mq\u001b[0m\u001b[1;33m[\u001b[0m\u001b[0mi\u001b[0m\u001b[1;33m+\u001b[0m\u001b[1;36m1\u001b[0m\u001b[1;33m]\u001b[0m\u001b[1;33m)\u001b[0m\u001b[1;33m\u001b[0m\u001b[0m\n",
      "\u001b[1;31mIndexError\u001b[0m: string index out of range"
     ]
    }
   ],
   "source": [
    "sum=0\n",
    "for i in range(0,len(p)):\n",
    "    if(q[i]=='-'):\n",
    "            print(q[i-1])\n",
    "            print(q[i+1])\n",
    "            b=int(q[i-1])-int(q[i+1])\n",
    "            l=list(q)\n",
    "            print(l)\n",
    "            l[i-1]=str(b)\n",
    "            l[i]=''\n",
    "            l[i+1]=''\n",
    "            print(l)\n",
    "            r=\"\".join(l)\n",
    "            print(r)"
   ]
  },
  {
   "cell_type": "code",
   "execution_count": 17,
   "metadata": {},
   "outputs": [],
   "source": [
    "test=\"4+5\""
   ]
  },
  {
   "cell_type": "code",
   "execution_count": 28,
   "metadata": {},
   "outputs": [],
   "source": [
    "def add(a,b,c):\n",
    "    if b == '+':\n",
    "         return int(a) + int (c)"
   ]
  },
  {
   "cell_type": "code",
   "execution_count": 30,
   "metadata": {},
   "outputs": [],
   "source": [
    "test_reg = re.search('(\\d+)([\\+])(\\d+)', test)"
   ]
  },
  {
   "cell_type": "code",
   "execution_count": 32,
   "metadata": {},
   "outputs": [],
   "source": [
    "sum = add(test_reg.group(1), test_reg.group(2), test_reg.group(3))"
   ]
  },
  {
   "cell_type": "code",
   "execution_count": 33,
   "metadata": {},
   "outputs": [
    {
     "name": "stdout",
     "output_type": "stream",
     "text": [
      "9\n"
     ]
    }
   ],
   "source": [
    "print(sum)"
   ]
  },
  {
   "cell_type": "code",
   "execution_count": 48,
   "metadata": {},
   "outputs": [
    {
     "data": {
      "text/plain": [
       "81"
      ]
     },
     "execution_count": 48,
     "metadata": {},
     "output_type": "execute_result"
    }
   ],
   "source": [
    "3**4"
   ]
  },
  {
   "cell_type": "code",
   "execution_count": 96,
   "metadata": {},
   "outputs": [],
   "source": [
    "in_str = \"4+5-6*10/2\""
   ]
  },
  {
   "cell_type": "code",
   "execution_count": 97,
   "metadata": {},
   "outputs": [],
   "source": [
    "def add(a,b,c):\n",
    "    if b == '+':\n",
    "         return int(a) + int (c)\n",
    "    elif b == '-':\n",
    "         return int(a) - int (c)\n",
    "    elif b == '*':\n",
    "         return int(a) * int (c)\n",
    "    elif b == '/':\n",
    "         return int(a) / int (c)"
   ]
  },
  {
   "cell_type": "code",
   "execution_count": 98,
   "metadata": {},
   "outputs": [],
   "source": [
    "a = re.search('(\\d+)([\\+\\-\\*\\/])(\\d+)', in_str)"
   ]
  },
  {
   "cell_type": "code",
   "execution_count": 99,
   "metadata": {},
   "outputs": [
    {
     "data": {
      "text/plain": [
       "'4+5'"
      ]
     },
     "execution_count": 99,
     "metadata": {},
     "output_type": "execute_result"
    }
   ],
   "source": [
    "a.group()"
   ]
  },
  {
   "cell_type": "code",
   "execution_count": 100,
   "metadata": {},
   "outputs": [
    {
     "data": {
      "text/plain": [
       "'4'"
      ]
     },
     "execution_count": 100,
     "metadata": {},
     "output_type": "execute_result"
    }
   ],
   "source": [
    "a.group(1)"
   ]
  },
  {
   "cell_type": "code",
   "execution_count": 101,
   "metadata": {},
   "outputs": [
    {
     "data": {
      "text/plain": [
       "'+'"
      ]
     },
     "execution_count": 101,
     "metadata": {},
     "output_type": "execute_result"
    }
   ],
   "source": [
    "a.group(2)"
   ]
  },
  {
   "cell_type": "code",
   "execution_count": 102,
   "metadata": {},
   "outputs": [
    {
     "data": {
      "text/plain": [
       "'5'"
      ]
     },
     "execution_count": 102,
     "metadata": {},
     "output_type": "execute_result"
    }
   ],
   "source": [
    "a.group(3)"
   ]
  },
  {
   "cell_type": "code",
   "execution_count": 103,
   "metadata": {},
   "outputs": [],
   "source": [
    "#If the search is successful, search() returns a match object or None otherwise.\n",
    "res = 0\n",
    "while a:\n",
    "  res = add(a.group(1), a.group(2), a.group(3))\n",
    "  in_str = in_str.replace(a.group(),str(res))\n",
    "  a = re.search('(\\d+)([\\+\\-\\*\\/])(\\d+)', in_str)"
   ]
  },
  {
   "cell_type": "code",
   "execution_count": 104,
   "metadata": {},
   "outputs": [
    {
     "data": {
      "text/plain": [
       "15.0"
      ]
     },
     "execution_count": 104,
     "metadata": {},
     "output_type": "execute_result"
    }
   ],
   "source": [
    "res"
   ]
  },
  {
   "cell_type": "code",
   "execution_count": null,
   "metadata": {},
   "outputs": [],
   "source": []
  },
  {
   "cell_type": "code",
   "execution_count": null,
   "metadata": {},
   "outputs": [],
   "source": []
  },
  {
   "cell_type": "code",
   "execution_count": 34,
   "metadata": {},
   "outputs": [],
   "source": [
    "in_str = \"4+5-6*10/5\""
   ]
  },
  {
   "cell_type": "code",
   "execution_count": 35,
   "metadata": {},
   "outputs": [],
   "source": [
    "def add(a,b,c):\n",
    "    if b == '+':\n",
    "         return int(a) + int (c)"
   ]
  },
  {
   "cell_type": "code",
   "execution_count": 36,
   "metadata": {},
   "outputs": [],
   "source": [
    "def sub(a,b,c):\n",
    "    if b == '-':\n",
    "         return int(a) - int (c)"
   ]
  },
  {
   "cell_type": "code",
   "execution_count": 37,
   "metadata": {},
   "outputs": [],
   "source": [
    "def mul(a,b,c):\n",
    "    if b == '*':\n",
    "         return int(a) * int (c)"
   ]
  },
  {
   "cell_type": "code",
   "execution_count": 38,
   "metadata": {},
   "outputs": [],
   "source": [
    "def div(a,b,c):\n",
    "    if b == '/':\n",
    "         return int(a) / int (c)"
   ]
  },
  {
   "cell_type": "code",
   "execution_count": 39,
   "metadata": {},
   "outputs": [],
   "source": [
    "a = re.search('(\\d+)([\\+\\-\\*\\/])(\\d+)', in_str)"
   ]
  },
  {
   "cell_type": "code",
   "execution_count": 42,
   "metadata": {},
   "outputs": [],
   "source": [
    "res=0\n",
    "while a:\n",
    "  res = div(a.group(1), a.group(2), a.group(3))\n",
    "  in_str = in_str.replace(a.group(),str(res))\n",
    "  a = re.search('(\\d+)([\\+\\-\\*\\/])(\\d+)', in_str)"
   ]
  },
  {
   "cell_type": "code",
   "execution_count": 43,
   "metadata": {},
   "outputs": [
    {
     "name": "stdout",
     "output_type": "stream",
     "text": [
      "0\n"
     ]
    }
   ],
   "source": [
    "print(res)"
   ]
  },
  {
   "cell_type": "markdown",
   "metadata": {},
   "source": [
    "<h1>Diffrent technique to consider braces and precedences</h1>"
   ]
  },
  {
   "cell_type": "code",
   "execution_count": 8,
   "metadata": {},
   "outputs": [],
   "source": [
    "def precedence(c):\n",
    "  if \"*/\".find(c) >= 0:\n",
    "    return 2\n",
    "  elif \"+-\".find(c) >= 0:\n",
    "    return 1\n",
    "  else:\n",
    "    return 0"
   ]
  },
  {
   "cell_type": "code",
   "execution_count": 9,
   "metadata": {},
   "outputs": [],
   "source": [
    "import sys\n",
    "def add(a,b,c):\n",
    "  if b == '+':\n",
    "    return float(a) + float (c)\n",
    "  elif b == '-':\n",
    "    return float(a) - float (c)\n",
    "  elif b == '*':\n",
    "    return float(a) * float (c)\n",
    "  elif b == '/':\n",
    "    if float(c) == 0:\n",
    "      print(\"Divide by zero error\")\n",
    "      sys.exit(1)\n",
    "    return float(a) / float (c)"
   ]
  },
  {
   "cell_type": "code",
   "execution_count": 10,
   "metadata": {},
   "outputs": [
    {
     "data": {
      "text/plain": [
       "3"
      ]
     },
     "execution_count": 10,
     "metadata": {},
     "output_type": "execute_result"
    }
   ],
   "source": [
    "\"+-*/\".find('/')"
   ]
  },
  {
   "cell_type": "code",
   "execution_count": 11,
   "metadata": {},
   "outputs": [
    {
     "data": {
      "text/plain": [
       "1"
      ]
     },
     "execution_count": 11,
     "metadata": {},
     "output_type": "execute_result"
    }
   ],
   "source": [
    "precedence('+')"
   ]
  },
  {
   "cell_type": "code",
   "execution_count": 12,
   "metadata": {},
   "outputs": [
    {
     "data": {
      "text/plain": [
       "1"
      ]
     },
     "execution_count": 12,
     "metadata": {},
     "output_type": "execute_result"
    }
   ],
   "source": [
    "precedence('-')"
   ]
  },
  {
   "cell_type": "code",
   "execution_count": 13,
   "metadata": {},
   "outputs": [],
   "source": [
    "def check_balance(ins):    \n",
    " check_balanced_1=[]\n",
    " check_balanced_2=[]\n",
    " for i in ins:\n",
    "         if i=='(' or i== '[' or i=='{':\n",
    "             check_balanced_1.append(i)\n",
    "         elif i==')' or i== ']' or i== '}':\n",
    "             check_balanced_2.append(i)\n",
    " print(len(check_balanced_1))\n",
    " print(len(check_balanced_2))\n",
    " if len(check_balanced_1)!=len(check_balanced_2):\n",
    "        \n",
    "        print(\"paranthesis is not balanced\")\n",
    "        sys.exit(1)\n"
   ]
  },
  {
   "cell_type": "code",
   "execution_count": 48,
   "metadata": {},
   "outputs": [],
   "source": [
    "def check_balance_pop(ins):    \n",
    " check_balanced_1=[]\n",
    " check_balanced_2=[]\n",
    " for i in ins:\n",
    "         if i=='(' or i== '[' or i=='{':\n",
    "             check_balanced_1.append(i)\n",
    "         elif i==')' or i== ']' or i== '}':\n",
    "             if(len(check_balanced_1)>0):\n",
    "                check_balanced_1.pop()\n",
    "             else:\n",
    "                print(\"paranthesis is not balanced\")   #len is 0 but still not balanced\n",
    "                sys.exit(1)\n",
    "                \n",
    " #print(len(check_balanced_1))\n",
    " #print(len(check_balanced_2))\n",
    " if len(check_balanced_1)!=0:\n",
    "        \n",
    "        print(\"paranthesis is not balanced\")\n",
    "        sys.exit(1)\n"
   ]
  },
  {
   "cell_type": "code",
   "execution_count": 50,
   "metadata": {},
   "outputs": [
    {
     "name": "stdout",
     "output_type": "stream",
     "text": [
      "paranthesis is not balanced\n"
     ]
    },
    {
     "ename": "SystemExit",
     "evalue": "1",
     "output_type": "error",
     "traceback": [
      "An exception has occurred, use %tb to see the full traceback.\n",
      "\u001b[1;31mSystemExit\u001b[0m\u001b[1;31m:\u001b[0m 1\n"
     ]
    },
    {
     "name": "stderr",
     "output_type": "stream",
     "text": [
      "C:\\Users\\anjineyulu\\AppData\\Local\\Continuum\\anaconda3\\lib\\site-packages\\IPython\\core\\interactiveshell.py:2971: UserWarning: To exit: use 'exit', 'quit', or Ctrl-D.\n",
      "  warn(\"To exit: use 'exit', 'quit', or Ctrl-D.\", stacklevel=1)\n"
     ]
    }
   ],
   "source": [
    "ins=\"2/(2+(4+5)/(9))}\"\n",
    "check_balance_pop(ins)"
   ]
  },
  {
   "cell_type": "code",
   "execution_count": 22,
   "metadata": {},
   "outputs": [],
   "source": [
    "ins=\"2/(2+(4+5)/(9)))}\"\n",
    "check_balance_pop(ins)"
   ]
  },
  {
   "cell_type": "code",
   "execution_count": 57,
   "metadata": {},
   "outputs": [
    {
     "name": "stdout",
     "output_type": "stream",
     "text": [
      "4\n",
      "3\n",
      "paranthesis is not balanced\n"
     ]
    },
    {
     "ename": "SystemExit",
     "evalue": "1",
     "output_type": "error",
     "traceback": [
      "An exception has occurred, use %tb to see the full traceback.\n",
      "\u001b[1;31mSystemExit\u001b[0m\u001b[1;31m:\u001b[0m 1\n"
     ]
    },
    {
     "name": "stderr",
     "output_type": "stream",
     "text": [
      "C:\\Users\\anjineyulu\\AppData\\Local\\Continuum\\anaconda3\\lib\\site-packages\\IPython\\core\\interactiveshell.py:2971: UserWarning: To exit: use 'exit', 'quit', or Ctrl-D.\n",
      "  warn(\"To exit: use 'exit', 'quit', or Ctrl-D.\", stacklevel=1)\n"
     ]
    }
   ],
   "source": [
    "ins= \"[(2*(3+4)]+{4+5/0}\"\n",
    "check_balance(ins)"
   ]
  },
  {
   "cell_type": "code",
   "execution_count": 58,
   "metadata": {},
   "outputs": [
    {
     "name": "stdout",
     "output_type": "stream",
     "text": [
      "87.65\n"
     ]
    }
   ],
   "source": [
    "import re\n",
    "tmp = re.search('^(-?[\\d]+([\\.\\d]+)?)', '87.65')\n",
    "print(tmp[0])"
   ]
  },
  {
   "cell_type": "code",
   "execution_count": 59,
   "metadata": {},
   "outputs": [
    {
     "ename": "TypeError",
     "evalue": "'NoneType' object is not subscriptable",
     "output_type": "error",
     "traceback": [
      "\u001b[1;31m---------------------------------------------------------------------------\u001b[0m",
      "\u001b[1;31mTypeError\u001b[0m                                 Traceback (most recent call last)",
      "\u001b[1;32m<ipython-input-59-0724bbfc837a>\u001b[0m in \u001b[0;36m<module>\u001b[1;34m()\u001b[0m\n\u001b[0;32m      1\u001b[0m \u001b[1;32mimport\u001b[0m \u001b[0mre\u001b[0m\u001b[1;33m\u001b[0m\u001b[0m\n\u001b[0;32m      2\u001b[0m \u001b[0mtmp\u001b[0m \u001b[1;33m=\u001b[0m \u001b[0mre\u001b[0m\u001b[1;33m.\u001b[0m\u001b[0msearch\u001b[0m\u001b[1;33m(\u001b[0m\u001b[1;34m'^(-[\\d]+([\\.\\d]+)?)'\u001b[0m\u001b[1;33m,\u001b[0m \u001b[1;34m'87.65'\u001b[0m\u001b[1;33m)\u001b[0m\u001b[1;33m\u001b[0m\u001b[0m\n\u001b[1;32m----> 3\u001b[1;33m \u001b[0mprint\u001b[0m\u001b[1;33m(\u001b[0m\u001b[0mtmp\u001b[0m\u001b[1;33m[\u001b[0m\u001b[1;36m0\u001b[0m\u001b[1;33m]\u001b[0m\u001b[1;33m)\u001b[0m\u001b[1;33m\u001b[0m\u001b[0m\n\u001b[0m",
      "\u001b[1;31mTypeError\u001b[0m: 'NoneType' object is not subscriptable"
     ]
    }
   ],
   "source": [
    "import re\n",
    "tmp = re.search('^(-[\\d]+([\\.\\d]+)?)', '87.65')\n",
    "print(tmp[0])"
   ]
  },
  {
   "cell_type": "markdown",
   "metadata": {},
   "source": [
    "<h4>This needs a mandatory minus sign</h4>"
   ]
  },
  {
   "cell_type": "code",
   "execution_count": 88,
   "metadata": {},
   "outputs": [
    {
     "name": "stdout",
     "output_type": "stream",
     "text": [
      "-87.62\n"
     ]
    }
   ],
   "source": [
    "import re\n",
    "tmp = re.search('^(-?[\\d]+([\\.\\d]+)?)', '-87.62')\n",
    "print(tmp[0])"
   ]
  },
  {
   "cell_type": "code",
   "execution_count": null,
   "metadata": {},
   "outputs": [],
   "source": []
  },
  {
   "cell_type": "code",
   "execution_count": 23,
   "metadata": {},
   "outputs": [],
   "source": [
    "#This id dijkista's two stack algorithm where there two stacks for operands and operators are used.\n",
    "#Reference for algorithm:https://logicfirstcoding.com/understanding-stacks-with-dijkshtras-two-stack-algorithm-for-arithmetic-expression-evaluation/\n",
    "#I have modified the code to consider prcedence.\n",
    "def calc(ins):\n",
    "   \n",
    "\n",
    "\n",
    "   check_balance_pop(ins)\n",
    "   operator = []\n",
    "   operand = []\n",
    "   i=0\n",
    "   while(i<len(ins)):\n",
    "     if ins[i].isdigit() or ( \"(+-*/\".find(ins[i-1])>=0  and ins[i] == '-'): \n",
    "         tmp = re.search('^(-?[\\d]+([\\.\\d]+)?)', ins[i:])\n",
    "         i+= len(tmp[0])\n",
    "         operand.append(tmp[0])\n",
    "        \n",
    "         \n",
    "     elif ins[i]=='(' or ins[i]== '[' or ins[i]=='{':\n",
    "       operator.append(ins[i])\n",
    "       i+=1\n",
    "       continue\n",
    "     elif \"+-*/\".find(ins[i])>=0:\n",
    "       while len(operator) and precedence(operator[-1]) >= precedence(ins[i]):   #It gets executed only when operator stack has atleast\n",
    "         op = operator.pop()                                                #one element and when precedence of previus is higher\n",
    "         #print(op)                                                         #we immedialey pop them from stack\n",
    "         op2 = operand.pop()\n",
    "         #print(op2)\n",
    "         op1 = operand.pop()\n",
    "         #print(op1)\n",
    "         res = add(op1,op,op2)\n",
    "         operand.append(res)\n",
    "       operator.append(ins[i])\n",
    "       i+=1\n",
    "       continue\n",
    "      \n",
    "     elif ins[i]==')' or ins[i]== ']' or ins[i]== '}':\n",
    "       while len(operator)>0 and len(operator)>1 and (operator[-1] != '('  and operator[-1]!= '[' and operator[-1]!='{'):     #Checking edge case for () and giving ()'s the highest precedence.\n",
    "         op = operator.pop()\n",
    "         #print('Hi')\n",
    "         #print(operand)\n",
    "         op2 = operand.pop()\n",
    "        \n",
    "         op1 = operand.pop()\n",
    "         res = add(op1,op,op2)\n",
    "         operand.append(res)\n",
    "       operator.pop()\n",
    "       i+=1\n",
    "       continue\n",
    "  \n",
    "   while len(operator):\n",
    "     op = operator.pop()\n",
    "     op2 = operand.pop()\n",
    "     op1 = operand.pop()\n",
    "     res = add(op1,op,op2)\n",
    "     operand.append(res)\n",
    "   return operand[0]"
   ]
  },
  {
   "cell_type": "code",
   "execution_count": 24,
   "metadata": {},
   "outputs": [],
   "source": [
    "# #correct working code.\n",
    "# #This id dijkista's two stack algorithm where there two stacks for operands and operators are used.\n",
    "# #Reference for algorithm:https://logicfirstcoding.com/understanding-stacks-with-dijkshtras-two-stack-algorithm-for-arithmetic-expression-evaluation/\n",
    "# #I have modified the code to consider prcedence.\n",
    "# #def calc(ins):\n",
    "   \n",
    "\n",
    "\n",
    "#    check_balance(ins)\n",
    "#    operator = []\n",
    "#    operand = []\n",
    "#    i=0\n",
    "#    while(i<len(ins)):\n",
    "#      if ins[i].isdigit(): \n",
    "#          Z=0\n",
    "#          r=''\n",
    "#          j=int(i)\n",
    "# #          print(i)\n",
    "#          while(j<len(ins) and ins[j].isdigit()):\n",
    "#             r+=ins[j]\n",
    "#             j+=1\n",
    "#          Z=int(r)  \n",
    "#          print(i,Z)\n",
    "#          operand.append(r)\n",
    "#          i=int(j)\n",
    "#          continue\n",
    "#      elif ins[i]=='(': #or ins[i]== '[' or ins[i]=='{':\n",
    "#        operator.append(ins[i])\n",
    "#        i+=1\n",
    "#        continue\n",
    "#      elif \"+-*/\".find(ins[i])>=0:\n",
    "#        while len(operator) and precedence(operator[-1]) >= precedence(ins[i]):   #It gets executed only when operator stack has atleast\n",
    "#          op = operator.pop()                                                #one element and when precedence of previus is higher\n",
    "#          print(op)                                                         #we immedialey pop them from stack\n",
    "#          op2 = operand.pop()\n",
    "#          print(op2)\n",
    "#          op1 = operand.pop()\n",
    "#          print(op1)\n",
    "#          res = add(op1,op,op2)\n",
    "#          operand.append(res)\n",
    "#        operator.append(ins[i])\n",
    "#        i+=1\n",
    "#        continue\n",
    "      \n",
    "#      elif ins[i]==')':\n",
    "#        while len(operator)>0 and len(operand)>1 and (operator[-1] != '('): # or operator[-1]!= '[' or operator[-1]!='{'):     #Checking edge case for () and giving ()'s the highest precedence.\n",
    "#          op = operator.pop()\n",
    "#          print('Hi')\n",
    "#          print(operand)\n",
    "#          op2 = operand.pop()\n",
    "        \n",
    "#          op1 = operand.pop()\n",
    "#          res = add(op1,op,op2)\n",
    "#          operand.append(res)\n",
    "#        operator.pop()\n",
    "#        i+=1\n",
    "#        continue\n",
    "  \n",
    "#    while len(operator):\n",
    "#      op = operator.pop()\n",
    "#      op2 = operand.pop()\n",
    "#      op1 = operand.pop()\n",
    "#      res = add(op1,op,op2)\n",
    "#      operand.append(res)\n",
    "#    return operand[0]"
   ]
  },
  {
   "cell_type": "code",
   "execution_count": 25,
   "metadata": {},
   "outputs": [],
   "source": [
    "# #This id dijkista's two stack algorithm where there two stacks for operands and operators are used.\n",
    "# #Reference for algorithm:https://logicfirstcoding.com/understanding-stacks-with-dijkshtras-two-stack-algorithm-for-arithmetic-expression-evaluation/\n",
    "# #I have modified the code to consider prcedence.\n",
    "# def calc(ins):\n",
    "   \n",
    "\n",
    "\n",
    "#    check_balance(ins)\n",
    "#    operator = []\n",
    "#    operand = []\n",
    "  \n",
    "#    for i in ins:\n",
    "#      if i.isdigit():\n",
    "#        operand.append(i)\n",
    "    \n",
    "#      elif i=='(' or i== '[' or i=='{':\n",
    "#        operator.append(i)\n",
    "#      elif \"+-*/\".find(i)>=0:\n",
    "#        while len(operator) and precedence(operator[-1]) >= precedence(i):   #It gets executed only when operator stack has atleast\n",
    "#          op = operator.pop()                                                #one element and when precedence of previus is higher\n",
    "#          #print(op)                                                         #we immedialey pop them from stack\n",
    "#          op2 = operand.pop()\n",
    "#          #print(op2)\n",
    "#          op1 = operand.pop()\n",
    "#          #print(op1)\n",
    "#          res = add(op1,op,op2)\n",
    "#          operand.append(res)\n",
    "#        operator.append(i)\n",
    "      \n",
    "#      elif i==')' or i== ']' or i== '}':\n",
    "#        while operator[-1] != '('  or operator[-1]!= '[' or operator[-1]!='{':     #Checking edge case for () and giving ()'s the highest precedence.\n",
    "#          op = operator.pop()\n",
    "#          op2 = operand.pop()\n",
    "        \n",
    "#          op1 = operand.pop()\n",
    "#          res = add(op1,op,op2)\n",
    "#          operand.append(res)\n",
    "#        operator.pop()\n",
    "  \n",
    "#    while len(operator):\n",
    "#      op = operator.pop()\n",
    "#      op2 = operand.pop()\n",
    "#      op1 = operand.pop()\n",
    "#      res = add(op1,op,op2)\n",
    "#      operand.append(res)\n",
    "#    return operand[0]"
   ]
  },
  {
   "cell_type": "code",
   "execution_count": 26,
   "metadata": {},
   "outputs": [
    {
     "data": {
      "text/plain": [
       "58.0"
      ]
     },
     "execution_count": 26,
     "metadata": {},
     "output_type": "execute_result"
    }
   ],
   "source": [
    "ins= '11*5+2-1+2'\n",
    "calc(ins)"
   ]
  },
  {
   "cell_type": "code",
   "execution_count": 27,
   "metadata": {},
   "outputs": [
    {
     "name": "stdout",
     "output_type": "stream",
     "text": [
      "paranthesis is not balanced\n"
     ]
    },
    {
     "ename": "SystemExit",
     "evalue": "1",
     "output_type": "error",
     "traceback": [
      "An exception has occurred, use %tb to see the full traceback.\n",
      "\u001b[1;31mSystemExit\u001b[0m\u001b[1;31m:\u001b[0m 1\n"
     ]
    },
    {
     "name": "stderr",
     "output_type": "stream",
     "text": [
      "C:\\Users\\anjineyulu\\AppData\\Local\\Continuum\\anaconda3\\lib\\site-packages\\IPython\\core\\interactiveshell.py:2971: UserWarning: To exit: use 'exit', 'quit', or Ctrl-D.\n",
      "  warn(\"To exit: use 'exit', 'quit', or Ctrl-D.\", stacklevel=1)\n"
     ]
    }
   ],
   "source": [
    "ins= \"((2*(3+4))+(4+5/0)\"\n",
    "calc(ins)"
   ]
  },
  {
   "cell_type": "code",
   "execution_count": 28,
   "metadata": {},
   "outputs": [
    {
     "name": "stdout",
     "output_type": "stream",
     "text": [
      "Divide by zero error\n"
     ]
    },
    {
     "ename": "SystemExit",
     "evalue": "1",
     "output_type": "error",
     "traceback": [
      "An exception has occurred, use %tb to see the full traceback.\n",
      "\u001b[1;31mSystemExit\u001b[0m\u001b[1;31m:\u001b[0m 1\n"
     ]
    },
    {
     "name": "stderr",
     "output_type": "stream",
     "text": [
      "C:\\Users\\anjineyulu\\AppData\\Local\\Continuum\\anaconda3\\lib\\site-packages\\IPython\\core\\interactiveshell.py:2971: UserWarning: To exit: use 'exit', 'quit', or Ctrl-D.\n",
      "  warn(\"To exit: use 'exit', 'quit', or Ctrl-D.\", stacklevel=1)\n"
     ]
    }
   ],
   "source": [
    "ins= \"((2*(3+4))+(4+5/0))\"\n",
    "calc(ins)"
   ]
  },
  {
   "cell_type": "code",
   "execution_count": 29,
   "metadata": {},
   "outputs": [
    {
     "data": {
      "text/plain": [
       "39.0"
      ]
     },
     "execution_count": 29,
     "metadata": {},
     "output_type": "execute_result"
    }
   ],
   "source": [
    "ins= \"(((2*[13+4]))+(4+(5/5)))\"\n",
    "calc(ins)"
   ]
  },
  {
   "cell_type": "code",
   "execution_count": 30,
   "metadata": {},
   "outputs": [
    {
     "data": {
      "text/plain": [
       "92.2"
      ]
     },
     "execution_count": 30,
     "metadata": {},
     "output_type": "execute_result"
    }
   ],
   "source": [
    "ins= \"(((2*{13+6*4+4}))+{4+[5+6/5]})\"\n",
    "calc(ins)"
   ]
  },
  {
   "cell_type": "code",
   "execution_count": 31,
   "metadata": {},
   "outputs": [
    {
     "data": {
      "text/plain": [
       "7.0"
      ]
     },
     "execution_count": 31,
     "metadata": {},
     "output_type": "execute_result"
    }
   ],
   "source": [
    "ins= \"(3+4())\"\n",
    "calc(ins)"
   ]
  },
  {
   "cell_type": "code",
   "execution_count": 32,
   "metadata": {},
   "outputs": [
    {
     "data": {
      "text/plain": [
       "14.0"
      ]
     },
     "execution_count": 32,
     "metadata": {},
     "output_type": "execute_result"
    }
   ],
   "source": [
    "ins=\"(3+[4+7])\"\n",
    "calc(ins)"
   ]
  },
  {
   "cell_type": "code",
   "execution_count": 33,
   "metadata": {},
   "outputs": [
    {
     "data": {
      "text/plain": [
       "6.0"
      ]
     },
     "execution_count": 33,
     "metadata": {},
     "output_type": "execute_result"
    }
   ],
   "source": [
    "ins = \"[2*3+{2/2}-1]\"\n",
    "calc(ins)"
   ]
  },
  {
   "cell_type": "code",
   "execution_count": 34,
   "metadata": {},
   "outputs": [
    {
     "data": {
      "text/plain": [
       "8.0"
      ]
     },
     "execution_count": 34,
     "metadata": {},
     "output_type": "execute_result"
    }
   ],
   "source": [
    "ins = \"2*3+2/(2-1)\"\n",
    "calc(ins)"
   ]
  },
  {
   "cell_type": "code",
   "execution_count": 35,
   "metadata": {},
   "outputs": [
    {
     "data": {
      "text/plain": [
       "6.0"
      ]
     },
     "execution_count": 35,
     "metadata": {},
     "output_type": "execute_result"
    }
   ],
   "source": [
    "ins = \"(2*3)+2/2-1\"\n",
    "calc(ins)"
   ]
  },
  {
   "cell_type": "code",
   "execution_count": 36,
   "metadata": {},
   "outputs": [
    {
     "data": {
      "text/plain": [
       "4.0"
      ]
     },
     "execution_count": 36,
     "metadata": {},
     "output_type": "execute_result"
    }
   ],
   "source": [
    "ins = \"2*(3+2)/2-1\"\n",
    "calc(ins)"
   ]
  },
  {
   "cell_type": "code",
   "execution_count": 37,
   "metadata": {},
   "outputs": [
    {
     "name": "stdout",
     "output_type": "stream",
     "text": [
      "paranthesis is not balanced\n"
     ]
    },
    {
     "ename": "SystemExit",
     "evalue": "1",
     "output_type": "error",
     "traceback": [
      "An exception has occurred, use %tb to see the full traceback.\n",
      "\u001b[1;31mSystemExit\u001b[0m\u001b[1;31m:\u001b[0m 1\n"
     ]
    },
    {
     "name": "stderr",
     "output_type": "stream",
     "text": [
      "C:\\Users\\anjineyulu\\AppData\\Local\\Continuum\\anaconda3\\lib\\site-packages\\IPython\\core\\interactiveshell.py:2971: UserWarning: To exit: use 'exit', 'quit', or Ctrl-D.\n",
      "  warn(\"To exit: use 'exit', 'quit', or Ctrl-D.\", stacklevel=1)\n"
     ]
    }
   ],
   "source": [
    "ins=\"2/(2+(4+5)/(9)))(\"\n",
    "calc(ins)"
   ]
  },
  {
   "cell_type": "code",
   "execution_count": 38,
   "metadata": {},
   "outputs": [
    {
     "name": "stdout",
     "output_type": "stream",
     "text": [
      "paranthesis is not balanced\n"
     ]
    },
    {
     "ename": "SystemExit",
     "evalue": "1",
     "output_type": "error",
     "traceback": [
      "An exception has occurred, use %tb to see the full traceback.\n",
      "\u001b[1;31mSystemExit\u001b[0m\u001b[1;31m:\u001b[0m 1\n"
     ]
    },
    {
     "name": "stderr",
     "output_type": "stream",
     "text": [
      "C:\\Users\\anjineyulu\\AppData\\Local\\Continuum\\anaconda3\\lib\\site-packages\\IPython\\core\\interactiveshell.py:2971: UserWarning: To exit: use 'exit', 'quit', or Ctrl-D.\n",
      "  warn(\"To exit: use 'exit', 'quit', or Ctrl-D.\", stacklevel=1)\n"
     ]
    }
   ],
   "source": [
    "ins = \"2/(2 + (4+5)/(9)))(\"\n",
    "calc(ins)"
   ]
  },
  {
   "cell_type": "markdown",
   "metadata": {},
   "source": [
    "<h1>Test cases for floating numbers,negative numbers  and negative numbers with brackets</h1>"
   ]
  },
  {
   "cell_type": "code",
   "execution_count": 39,
   "metadata": {},
   "outputs": [
    {
     "data": {
      "text/plain": [
       "-56.0"
      ]
     },
     "execution_count": 39,
     "metadata": {},
     "output_type": "execute_result"
    }
   ],
   "source": [
    "ins=\"8*-7\"\n",
    "calc(ins)"
   ]
  },
  {
   "cell_type": "code",
   "execution_count": 40,
   "metadata": {},
   "outputs": [
    {
     "data": {
      "text/plain": [
       "-56.0"
      ]
     },
     "execution_count": 40,
     "metadata": {},
     "output_type": "execute_result"
    }
   ],
   "source": [
    "ins=\"8*(-7)\"\n",
    "calc(ins)"
   ]
  },
  {
   "cell_type": "code",
   "execution_count": 41,
   "metadata": {},
   "outputs": [
    {
     "data": {
      "text/plain": [
       "60.0"
      ]
     },
     "execution_count": 41,
     "metadata": {},
     "output_type": "execute_result"
    }
   ],
   "source": [
    "ins=\"8*7.5\"\n",
    "calc(ins)"
   ]
  },
  {
   "cell_type": "code",
   "execution_count": 42,
   "metadata": {},
   "outputs": [
    {
     "data": {
      "text/plain": [
       "60.0"
      ]
     },
     "execution_count": 42,
     "metadata": {},
     "output_type": "execute_result"
    }
   ],
   "source": [
    "ins=\"8*(7.5)\"\n",
    "calc(ins)"
   ]
  },
  {
   "cell_type": "code",
   "execution_count": 43,
   "metadata": {},
   "outputs": [
    {
     "data": {
      "text/plain": [
       "-60.0"
      ]
     },
     "execution_count": 43,
     "metadata": {},
     "output_type": "execute_result"
    }
   ],
   "source": [
    "ins=\"8*(-7.5)\"\n",
    "calc(ins)"
   ]
  },
  {
   "cell_type": "code",
   "execution_count": 44,
   "metadata": {},
   "outputs": [
    {
     "data": {
      "text/plain": [
       "12.321000000000002"
      ]
     },
     "execution_count": 44,
     "metadata": {},
     "output_type": "execute_result"
    }
   ],
   "source": [
    "ins=\"2.22*5.55\"\n",
    "calc(ins)"
   ]
  },
  {
   "cell_type": "code",
   "execution_count": 45,
   "metadata": {},
   "outputs": [
    {
     "data": {
      "text/plain": [
       "7.131265822784812"
      ]
     },
     "execution_count": 45,
     "metadata": {},
     "output_type": "execute_result"
    }
   ],
   "source": [
    "ins = \"[2.75*3.56+{2.13/-2.37}-1.76]\"\n",
    "calc(ins)"
   ]
  },
  {
   "cell_type": "code",
   "execution_count": 46,
   "metadata": {},
   "outputs": [
    {
     "data": {
      "text/plain": [
       "7.131265822784812"
      ]
     },
     "execution_count": 46,
     "metadata": {},
     "output_type": "execute_result"
    }
   ],
   "source": [
    "ins = \"[2.75*3.56+{2.13/(-2.37)}-1.76]\"\n",
    "calc(ins)"
   ]
  },
  {
   "cell_type": "code",
   "execution_count": 51,
   "metadata": {},
   "outputs": [
    {
     "name": "stdout",
     "output_type": "stream",
     "text": [
      "paranthesis is not balanced\n"
     ]
    },
    {
     "ename": "SystemExit",
     "evalue": "1",
     "output_type": "error",
     "traceback": [
      "An exception has occurred, use %tb to see the full traceback.\n",
      "\u001b[1;31mSystemExit\u001b[0m\u001b[1;31m:\u001b[0m 1\n"
     ]
    },
    {
     "name": "stderr",
     "output_type": "stream",
     "text": [
      "C:\\Users\\anjineyulu\\AppData\\Local\\Continuum\\anaconda3\\lib\\site-packages\\IPython\\core\\interactiveshell.py:2971: UserWarning: To exit: use 'exit', 'quit', or Ctrl-D.\n",
      "  warn(\"To exit: use 'exit', 'quit', or Ctrl-D.\", stacklevel=1)\n"
     ]
    }
   ],
   "source": [
    "ins=\"2/(2+(4+5)/(9))}\"\n",
    "calc(ins)"
   ]
  },
  {
   "cell_type": "code",
   "execution_count": null,
   "metadata": {},
   "outputs": [],
   "source": []
  }
 ],
 "metadata": {
  "kernelspec": {
   "display_name": "Python 3",
   "language": "python",
   "name": "python3"
  },
  "language_info": {
   "codemirror_mode": {
    "name": "ipython",
    "version": 3
   },
   "file_extension": ".py",
   "mimetype": "text/x-python",
   "name": "python",
   "nbconvert_exporter": "python",
   "pygments_lexer": "ipython3",
   "version": "3.6.5"
  }
 },
 "nbformat": 4,
 "nbformat_minor": 2
}
